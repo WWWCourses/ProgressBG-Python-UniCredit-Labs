{
 "cells": [
  {
   "cell_type": "code",
   "execution_count": 23,
   "id": "c716957a-c8d1-4518-a3da-53661dbf4cf8",
   "metadata": {},
   "outputs": [],
   "source": [
    "import matplotlib.pyplot as plt\n",
    "import numpy as np\n",
    "\n",
    "%matplotlib inline\n",
    "\n"
   ]
  },
  {
   "cell_type": "markdown",
   "id": "b0071299-4a46-4c58-bb76-b0a0b2475445",
   "metadata": {},
   "source": [
    "# Main Program"
   ]
  },
  {
   "cell_type": "code",
   "execution_count": 24,
   "id": "4a66d974-34f7-43f8-b222-59f816589a2e",
   "metadata": {},
   "outputs": [
    {
     "name": "stdout",
     "output_type": "stream",
     "text": [
      "hi\n"
     ]
    }
   ],
   "source": [
    "print('hi')"
   ]
  },
  {
   "cell_type": "code",
   "execution_count": 25,
   "id": "0f281f63-9698-43e7-954a-399acc0bf248",
   "metadata": {
    "tags": []
   },
   "outputs": [],
   "source": [
    "\n",
    "x = np.arange(0.0, 2, 0.01)\n",
    "y1 = np.sin(2 * np.pi * x)\n",
    "y2 = 0.8 * np.sin(4 * np.pi * x)"
   ]
  },
  {
   "cell_type": "code",
   "execution_count": 26,
   "id": "22e5856f-600c-475d-ab94-1b900ffc7ff7",
   "metadata": {
    "tags": []
   },
   "outputs": [
    {
     "data": {
      "image/png": "[encoded data removed]",
      "text/plain": [
       "<Figure size 432x432 with 3 Axes>"
      ]
     },
     "metadata": {
      "needs_background": "light"
     },
     "output_type": "display_data"
    }
   ],
   "source": [
    "\n",
    "fig, (ax1, ax2, ax3) = plt.subplots(3, 1, sharex=True, figsize=(6, 6))"
   ]
  },
  {
   "cell_type": "code",
   "execution_count": 27,
   "id": "007f548a-bb84-49ce-8362-ce355f315ef3",
   "metadata": {
    "tags": []
   },
   "outputs": [],
   "source": [
    "ax1.fill_between(x, y1)\n",
    "ax1.set_title('fill between y1 and 0')\n",
    "\n",
    "ax2.fill_between(x, y1, 1)\n",
    "ax2.set_title('fill between y1 and 1')\n",
    "\n",
    "ax3.fill_between(x, y1, y2)\n",
    "ax3.set_title('fill between y1 and y2')\n",
    "ax3.set_xlabel('x')\n",
    "fig.tight_layout()"
   ]
  },
  {
   "cell_type": "code",
   "execution_count": 29,
   "id": "00df9aca-9bae-4bc6-b918-9fbc5037e0d5",
   "metadata": {},
   "outputs": [],
   "source": [
    "plt.show()"
   ]
  },
  {
   "cell_type": "code",
   "execution_count": null,
   "id": "1650b1d9-72bc-4951-b9cc-508ec7c54b5f",
   "metadata": {
    "collapsed": true,
    "jupyter": {
     "outputs_hidden": true
    }
   },
   "outputs": [],
   "source": []
  }
 ],
 "metadata": {
  "kernelspec": {
   "display_name": "Python 3 (ipykernel)",
   "language": "python",
   "name": "python3"
  },
  "language_info": {
   "codemirror_mode": {
    "name": "ipython",
    "version": 3
   },
   "file_extension": ".py",
   "mimetype": "text/x-python",
   "name": "python",
   "nbconvert_exporter": "python",
   "pygments_lexer": "ipython3",
   "version": "3.10.2"
  }
 },
 "nbformat": 4,
 "nbformat_minor": 5
}
